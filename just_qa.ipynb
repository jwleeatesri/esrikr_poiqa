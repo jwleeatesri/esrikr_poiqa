{
 "cells": [
  {
   "cell_type": "code",
   "execution_count": null,
   "id": "2df0938b",
   "metadata": {},
   "outputs": [],
   "source": [
    "import pandas as pd"
   ]
  },
  {
   "cell_type": "code",
   "execution_count": null,
   "id": "0116a114",
   "metadata": {},
   "outputs": [],
   "source": [
    "dw_interest = pd.read_csv(\"dw_poi_all.csv\").loc[:,[\"name\",\"name_alias\",\"name_eng\"]].astype(\"string\")"
   ]
  },
  {
   "cell_type": "code",
   "execution_count": null,
   "id": "5488375a",
   "metadata": {},
   "outputs": [],
   "source": [
    "from googletrans import Translator;tr = Translator()"
   ]
  },
  {
   "cell_type": "code",
   "execution_count": null,
   "id": "f78abdd6",
   "metadata": {},
   "outputs": [],
   "source": [
    "num_test = 100"
   ]
  },
  {
   "cell_type": "code",
   "execution_count": null,
   "id": "2b78eb33",
   "metadata": {},
   "outputs": [],
   "source": [
    "def translate(row):\n",
    "    return tr.translate(row[\"name\"],src=\"ko\").text"
   ]
  },
  {
   "cell_type": "code",
   "execution_count": null,
   "id": "932a099b",
   "metadata": {},
   "outputs": [],
   "source": [
    "dw_interest.loc[:num_test,\"translated\"] = dw_interest.loc[:num_test].apply(translate,axis=1)"
   ]
  },
  {
   "cell_type": "code",
   "execution_count": null,
   "id": "bc114761",
   "metadata": {},
   "outputs": [],
   "source": [
    "testing = dw_interest.loc[:50]\n",
    "testing"
   ]
  },
  {
   "cell_type": "code",
   "execution_count": null,
   "id": "e1e1ff47",
   "metadata": {},
   "outputs": [],
   "source": [
    "def remove_spaces(elem):\n",
    "  return \"\".join([c for c in elem if c != \" \"]).strip()"
   ]
  },
  {
   "cell_type": "code",
   "execution_count": null,
   "id": "f2d1a2b7",
   "metadata": {},
   "outputs": [],
   "source": [
    "dw_interest.loc[:50, \"name_eng\"] = dw_interest.loc[:50, \"name_eng\"].apply(remove_spaces)"
   ]
  },
  {
   "cell_type": "code",
   "execution_count": null,
   "id": "46b3259b",
   "metadata": {},
   "outputs": [],
   "source": [
    "dw_interest.loc[:50,\"translated\"] = dw_interest.loc[:50,\"translated\"].apply(remove_spaces)"
   ]
  },
  {
   "cell_type": "code",
   "execution_count": null,
   "id": "9613ac20",
   "metadata": {},
   "outputs": [],
   "source": [
    "from fuzzywuzzy import fuzz\n",
    "def compare(row):\n",
    "  return fuzz.ratio(row[\"name_eng\"].lower(), row.translated.lower())"
   ]
  },
  {
   "cell_type": "code",
   "execution_count": null,
   "id": "dacab597",
   "metadata": {},
   "outputs": [],
   "source": [
    "dw_interest.loc[:50,\"ratio\"] = dw_interest.loc[:50].apply(compare,axis=1)"
   ]
  },
  {
   "cell_type": "code",
   "execution_count": null,
   "id": "fa64a796",
   "metadata": {},
   "outputs": [],
   "source": [
    "dw_interest.loc[:50].loc[dw_interest[\"ratio\"] < 30]"
   ]
  },
  {
   "cell_type": "code",
   "execution_count": null,
   "id": "5a1d3a69",
   "metadata": {},
   "outputs": [],
   "source": [
    "tr.translate(\"hello\",dest=\"ko\").text"
   ]
  },
  {
   "cell_type": "code",
   "execution_count": null,
   "id": "7bd1224c",
   "metadata": {},
   "outputs": [],
   "source": [
    "dw_interest.loc[dw_interest['translated'].notna()].sample(20)"
   ]
  },
  {
   "cell_type": "code",
   "execution_count": null,
   "id": "f536dbe1",
   "metadata": {},
   "outputs": [],
   "source": []
  }
 ],
 "metadata": {
  "kernelspec": {
   "display_name": "Python 3.10.6 64-bit",
   "language": "python",
   "name": "python3"
  },
  "language_info": {
   "codemirror_mode": {
    "name": "ipython",
    "version": 3
   },
   "file_extension": ".py",
   "mimetype": "text/x-python",
   "name": "python",
   "nbconvert_exporter": "python",
   "pygments_lexer": "ipython3",
   "version": "3.10.6"
  },
  "vscode": {
   "interpreter": {
    "hash": "916dbcbb3f70747c44a77c7bcd40155683ae19c65e1c03b4aa3499c5328201f1"
   }
  }
 },
 "nbformat": 4,
 "nbformat_minor": 5
}
